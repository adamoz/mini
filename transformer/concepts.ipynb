{
 "cells": [
  {
   "cell_type": "code",
   "execution_count": 23,
   "id": "cbb501d0-e79c-4aef-b094-41ae9718466e",
   "metadata": {
    "tags": []
   },
   "outputs": [],
   "source": [
    "import seaborn as sns\n",
    "import numpy as np\n",
    "import torch\n",
    "import torch.nn as nn\n",
    "from torch.nn import functional as F\n",
    "import matplotlib.pylab as plt\n",
    "import math"
   ]
  },
  {
   "cell_type": "markdown",
   "id": "949f63ba-3059-4e53-bcbc-db6a426d0935",
   "metadata": {
    "jp-MarkdownHeadingCollapsed": true,
    "tags": []
   },
   "source": [
    "### Data overview"
   ]
  },
  {
   "cell_type": "code",
   "execution_count": 6,
   "id": "7379e7fa-f795-4daf-a879-cb605f964c25",
   "metadata": {
    "tags": []
   },
   "outputs": [
    {
     "name": "stdout",
     "output_type": "stream",
     "text": [
      "--2023-03-03 09:52:37--  https://raw.githubusercontent.com/karpathy/char-rnn/master/data/tinyshakespeare/input.txt\n",
      "Resolving raw.githubusercontent.com (raw.githubusercontent.com)... 185.199.111.133, 185.199.110.133, 185.199.109.133, ...\n",
      "Connecting to raw.githubusercontent.com (raw.githubusercontent.com)|185.199.111.133|:443... connected.\n",
      "HTTP request sent, awaiting response... 200 OK\n",
      "Length: 1115394 (1.1M) [text/plain]\n",
      "Saving to: ‘shakespear.txt’\n",
      "\n",
      "shakespear.txt      100%[===================>]   1.06M  --.-KB/s    in 0.006s  \n",
      "\n",
      "2023-03-03 09:52:37 (182 MB/s) - ‘shakespear.txt’ saved [1115394/1115394]\n",
      "\n"
     ]
    }
   ],
   "source": [
    "!wget https://raw.githubusercontent.com/karpathy/char-rnn/master/data/tinyshakespeare/input.txt -O shakespear.txt"
   ]
  },
  {
   "cell_type": "code",
   "execution_count": 2,
   "id": "cd333a8d-a571-4e38-adb5-fc18a999c61e",
   "metadata": {
    "tags": []
   },
   "outputs": [],
   "source": [
    "with open('shakespear.txt', 'r', encoding='utf-8') as fr:\n",
    "    text = fr.read()"
   ]
  },
  {
   "cell_type": "code",
   "execution_count": 3,
   "id": "58b61d71-28b2-4287-92ed-28def7d390d0",
   "metadata": {
    "tags": []
   },
   "outputs": [
    {
     "name": "stdout",
     "output_type": "stream",
     "text": [
      "First Citizen:\n",
      "Before we proceed any further, hear me speak.\n",
      "\n",
      "All:\n",
      "Speak, speak.\n",
      "\n",
      "First Citizen:\n",
      "You are all resolved rather to die than to famish?\n",
      "\n",
      "All:\n",
      "Resolved. resolved.\n",
      "\n",
      "First Citizen:\n",
      "First, you know Caius Marcius is chief enemy to the people.\n",
      "\n",
      "All:\n",
      "We know't, we know't.\n",
      "\n",
      "First Citizen:\n",
      "Let us kill him, and we'll have corn at our own price.\n",
      "Is't a verdict?\n",
      "\n",
      "All:\n",
      "No more talking on't; let it be done: away, away!\n",
      "\n",
      "Second Citizen:\n",
      "One word, good citizens.\n",
      "\n",
      "First Citizen:\n",
      "We are accounted poor citizens, the patricians good.\n",
      "What authority surfeits on would relieve us: if they\n",
      "would yield us but the superfluity, while it were\n",
      "wholesome, we might guess they relieved us humanely;\n",
      "but they think we are too dear: the leanness that\n",
      "afflicts us, the object of our misery, is as an\n",
      "inventory to particularise their abundance; our\n",
      "sufferance is a gain to them Let us revenge this with\n",
      "our pikes, ere we become rakes: for the gods know I\n",
      "speak this in hunger for bread, not in thirst for revenge.\n",
      "\n",
      "\n"
     ]
    }
   ],
   "source": [
    "print(text[:1000])"
   ]
  },
  {
   "cell_type": "code",
   "execution_count": 4,
   "id": "5b630776-77d7-405a-bf78-2e163b3828fd",
   "metadata": {
    "tags": []
   },
   "outputs": [
    {
     "name": "stdout",
     "output_type": "stream",
     "text": [
      "Vocab size: 65\n",
      "\n",
      " !$&',-.3:;?ABCDEFGHIJKLMNOPQRSTUVWXYZabcdefghijklmnopqrstuvwxyz\n"
     ]
    }
   ],
   "source": [
    "chars = sorted(list(set(text)))\n",
    "vocab_size = len(chars)\n",
    "print(f\"Vocab size: {vocab_size}\")\n",
    "print(\"\".join(chars))"
   ]
  },
  {
   "cell_type": "code",
   "execution_count": 5,
   "id": "472803ca-c4ee-4db2-954e-7cf60e6b502d",
   "metadata": {
    "tags": []
   },
   "outputs": [
    {
     "name": "stdout",
     "output_type": "stream",
     "text": [
      "[46, 47, 47, 1, 58, 46, 43, 56, 43]\n",
      "hii there\n"
     ]
    }
   ],
   "source": [
    "stoi = {ch:i for i,ch in enumerate(chars)}\n",
    "itos  = {i:ch for i,ch in enumerate(chars)}\n",
    "\n",
    "encode = lambda s: [stoi[ch] for ch in s]\n",
    "decode = lambda l: \"\".join([itos[i] for i in l])\n",
    "\n",
    "print(encode(\"hii there\"))\n",
    "print(decode(encode(\"hii there\")))"
   ]
  },
  {
   "cell_type": "code",
   "execution_count": 6,
   "id": "fb41ff9a-9709-472b-abe9-0070e28db6c9",
   "metadata": {
    "tags": []
   },
   "outputs": [
    {
     "name": "stdout",
     "output_type": "stream",
     "text": [
      "torch.Size([1115394]) torch.int64\n",
      "tensor([18, 47, 56, 57, 58,  1, 15, 47, 58, 47, 64, 43, 52, 10,  0, 14, 43, 44,\n",
      "        53, 56, 43,  1, 61, 43,  1, 54, 56, 53, 41, 43, 43, 42,  1, 39, 52, 63,\n",
      "         1, 44, 59, 56, 58, 46, 43, 56,  6,  1, 46, 43, 39, 56,  1, 51, 43,  1,\n",
      "        57, 54, 43, 39, 49,  8,  0,  0, 13, 50, 50, 10,  0, 31, 54, 43, 39, 49,\n",
      "         6,  1, 57, 54, 43, 39, 49,  8,  0,  0, 18, 47, 56, 57, 58,  1, 15, 47,\n",
      "        58, 47, 64, 43, 52, 10,  0, 37, 53, 59])\n"
     ]
    }
   ],
   "source": [
    "data = torch.tensor(encode(text), dtype=torch.long)\n",
    "print(data.shape, data.dtype)\n",
    "print(data[:100])"
   ]
  },
  {
   "cell_type": "code",
   "execution_count": 7,
   "id": "27705ade-6478-4e65-998d-c1c7a47cbb82",
   "metadata": {
    "tags": []
   },
   "outputs": [
    {
     "name": "stdout",
     "output_type": "stream",
     "text": [
      "torch.Size([1003854]) torch.Size([111540])\n"
     ]
    }
   ],
   "source": [
    "n = int(0.9*len(data))\n",
    "train_data, valid_data = data[:n], data[n:]\n",
    "print(train_data.shape, valid_data.shape)"
   ]
  },
  {
   "cell_type": "code",
   "execution_count": 8,
   "id": "25ba3e6c-45d1-4341-b129-c95b6990bf1c",
   "metadata": {
    "tags": []
   },
   "outputs": [
    {
     "data": {
      "text/plain": [
       "tensor([18, 47, 56, 57, 58,  1, 15, 47, 58])"
      ]
     },
     "execution_count": 8,
     "metadata": {},
     "output_type": "execute_result"
    }
   ],
   "source": [
    "block_size = 8\n",
    "train_data[:block_size+1]"
   ]
  },
  {
   "cell_type": "code",
   "execution_count": 9,
   "id": "bec0cbe4-6c70-4a73-93ac-6368a51a5f44",
   "metadata": {
    "tags": []
   },
   "outputs": [
    {
     "name": "stdout",
     "output_type": "stream",
     "text": [
      "tensor([18]) tensor(47)\n",
      "tensor([18, 47]) tensor(56)\n",
      "tensor([18, 47, 56]) tensor(57)\n",
      "tensor([18, 47, 56, 57]) tensor(58)\n",
      "tensor([18, 47, 56, 57, 58]) tensor(1)\n",
      "tensor([18, 47, 56, 57, 58,  1]) tensor(15)\n",
      "tensor([18, 47, 56, 57, 58,  1, 15]) tensor(47)\n",
      "tensor([18, 47, 56, 57, 58,  1, 15, 47]) tensor(58)\n"
     ]
    }
   ],
   "source": [
    "x = train_data[:block_size]\n",
    "y = train_data[1:block_size+1]\n",
    "\n",
    "for t in range(block_size):\n",
    "    context = x[:t+1]\n",
    "    target = y[t]\n",
    "    print(context, target)\n",
    "    "
   ]
  },
  {
   "cell_type": "code",
   "execution_count": 10,
   "id": "3ced0d6d-b3a3-464a-a1ce-2f6e51825efc",
   "metadata": {
    "tags": []
   },
   "outputs": [],
   "source": [
    "torch.manual_seed(1337)\n",
    "batch_size = 4\n",
    "block_size = 8\n",
    "\n",
    "def get_batch(split):\n",
    "    data = train_data if split == 'train' else valid_data\n",
    "    ix = torch.randint(0, len(data) - block_size, (batch_size, ))\n",
    "    x = torch.stack([data[i:i+block_size] for i in ix])\n",
    "    y = torch.stack([data[i+1:i+block_size+1] for i in ix])\n",
    "    return x, y"
   ]
  },
  {
   "cell_type": "code",
   "execution_count": 19,
   "id": "165de44d-3246-4e7a-bc4f-6ed6ca2a7840",
   "metadata": {
    "tags": []
   },
   "outputs": [
    {
     "data": {
      "text/plain": [
       "(tensor([[24, 43, 58,  5, 57,  1, 46, 43],\n",
       "         [44, 53, 56,  1, 58, 46, 39, 58],\n",
       "         [52, 58,  1, 58, 46, 39, 58,  1],\n",
       "         [25, 17, 27, 10,  0, 21,  1, 54]]),\n",
       " tensor([[43, 58,  5, 57,  1, 46, 43, 39],\n",
       "         [53, 56,  1, 58, 46, 39, 58,  1],\n",
       "         [58,  1, 58, 46, 39, 58,  1, 46],\n",
       "         [17, 27, 10,  0, 21,  1, 54, 39]]))"
      ]
     },
     "execution_count": 19,
     "metadata": {},
     "output_type": "execute_result"
    }
   ],
   "source": [
    "xb, yb = get_batch('train')\n",
    "xb, yb"
   ]
  },
  {
   "cell_type": "code",
   "execution_count": 20,
   "id": "d37501d4-27ad-4907-900a-90ef69f63bdf",
   "metadata": {
    "tags": []
   },
   "outputs": [
    {
     "name": "stdout",
     "output_type": "stream",
     "text": [
      "tensor([24]) tensor(43)\n",
      "tensor([24, 43]) tensor(58)\n",
      "tensor([24, 43, 58]) tensor(5)\n",
      "tensor([24, 43, 58,  5]) tensor(57)\n",
      "tensor([24, 43, 58,  5, 57]) tensor(1)\n",
      "tensor([24, 43, 58,  5, 57,  1]) tensor(46)\n",
      "tensor([24, 43, 58,  5, 57,  1, 46]) tensor(43)\n",
      "tensor([24, 43, 58,  5, 57,  1, 46, 43]) tensor(39)\n",
      "tensor([44]) tensor(53)\n",
      "tensor([44, 53]) tensor(56)\n",
      "tensor([44, 53, 56]) tensor(1)\n",
      "tensor([44, 53, 56,  1]) tensor(58)\n",
      "tensor([44, 53, 56,  1, 58]) tensor(46)\n",
      "tensor([44, 53, 56,  1, 58, 46]) tensor(39)\n",
      "tensor([44, 53, 56,  1, 58, 46, 39]) tensor(58)\n",
      "tensor([44, 53, 56,  1, 58, 46, 39, 58]) tensor(1)\n",
      "tensor([52]) tensor(58)\n",
      "tensor([52, 58]) tensor(1)\n",
      "tensor([52, 58,  1]) tensor(58)\n",
      "tensor([52, 58,  1, 58]) tensor(46)\n",
      "tensor([52, 58,  1, 58, 46]) tensor(39)\n",
      "tensor([52, 58,  1, 58, 46, 39]) tensor(58)\n",
      "tensor([52, 58,  1, 58, 46, 39, 58]) tensor(1)\n",
      "tensor([52, 58,  1, 58, 46, 39, 58,  1]) tensor(46)\n",
      "tensor([25]) tensor(17)\n",
      "tensor([25, 17]) tensor(27)\n",
      "tensor([25, 17, 27]) tensor(10)\n",
      "tensor([25, 17, 27, 10]) tensor(0)\n",
      "tensor([25, 17, 27, 10,  0]) tensor(21)\n",
      "tensor([25, 17, 27, 10,  0, 21]) tensor(1)\n",
      "tensor([25, 17, 27, 10,  0, 21,  1]) tensor(54)\n",
      "tensor([25, 17, 27, 10,  0, 21,  1, 54]) tensor(39)\n"
     ]
    }
   ],
   "source": [
    "for b in range(batch_size):\n",
    "    for t in range(block_size):\n",
    "        context = xb[b, :t+1]\n",
    "        target = yb[b, t]\n",
    "        print(context, target)"
   ]
  },
  {
   "cell_type": "markdown",
   "id": "435b3bec-61b0-4c1a-89fb-77f42781b600",
   "metadata": {
    "jp-MarkdownHeadingCollapsed": true,
    "tags": []
   },
   "source": [
    "### Attention"
   ]
  },
  {
   "cell_type": "markdown",
   "id": "31eaeea2-b2f1-4fc8-9620-aa83df489c5c",
   "metadata": {},
   "source": [
    "#### v1"
   ]
  },
  {
   "cell_type": "code",
   "execution_count": 21,
   "id": "63606465-38dd-44ba-bb2d-9c8a3cff601b",
   "metadata": {
    "tags": []
   },
   "outputs": [],
   "source": [
    "torch.manual_seed(1337)\n",
    "B, T, C = 4, 8, 2\n",
    "x = torch.randn((B, T, C))\n",
    "xbow = torch.randn((B, T, C))\n",
    "\n",
    "for b in range(B):\n",
    "    for t in range(T):\n",
    "        xprev = x[b,:t+1]\n",
    "        # takes just context from curent and previous positions and average\n",
    "        xbow[b,t] = torch.mean(xprev, axis=0)"
   ]
  },
  {
   "cell_type": "code",
   "execution_count": 22,
   "id": "94bf5bf9-d11c-44fa-be1b-80e56120d4d3",
   "metadata": {
    "tags": []
   },
   "outputs": [
    {
     "data": {
      "text/plain": [
       "(tensor([[ 0.1808, -0.0700],\n",
       "         [-0.3596, -0.9152],\n",
       "         [ 0.6258,  0.0255]]),\n",
       " tensor([[ 0.1808, -0.0700],\n",
       "         [-0.0894, -0.4926],\n",
       "         [ 0.1490, -0.3199]]))"
      ]
     },
     "execution_count": 22,
     "metadata": {},
     "output_type": "execute_result"
    }
   ],
   "source": [
    "x[0][:3], xbow[0][:3]"
   ]
  },
  {
   "cell_type": "markdown",
   "id": "91b814dc-e932-485a-8dbb-2b996b9b13f2",
   "metadata": {},
   "source": [
    "#### v2"
   ]
  },
  {
   "cell_type": "code",
   "execution_count": 24,
   "id": "f2e420b0-1475-4380-bf1c-84a9e1a29cdc",
   "metadata": {
    "tags": []
   },
   "outputs": [
    {
     "data": {
      "text/plain": [
       "tensor([[1., 0., 0., 0., 0., 0., 0., 0.],\n",
       "        [1., 1., 0., 0., 0., 0., 0., 0.],\n",
       "        [1., 1., 1., 0., 0., 0., 0., 0.],\n",
       "        [1., 1., 1., 1., 0., 0., 0., 0.],\n",
       "        [1., 1., 1., 1., 1., 0., 0., 0.],\n",
       "        [1., 1., 1., 1., 1., 1., 0., 0.],\n",
       "        [1., 1., 1., 1., 1., 1., 1., 0.],\n",
       "        [1., 1., 1., 1., 1., 1., 1., 1.]])"
      ]
     },
     "execution_count": 24,
     "metadata": {},
     "output_type": "execute_result"
    }
   ],
   "source": [
    "wei = torch.tril(torch.ones((T,T)))\n",
    "wei"
   ]
  },
  {
   "cell_type": "code",
   "execution_count": 25,
   "id": "32961328-34fd-4be9-adb6-f131fc69f998",
   "metadata": {
    "tags": []
   },
   "outputs": [
    {
     "data": {
      "text/plain": [
       "tensor([[1.0000, 0.0000, 0.0000, 0.0000, 0.0000, 0.0000, 0.0000, 0.0000],\n",
       "        [0.5000, 0.5000, 0.0000, 0.0000, 0.0000, 0.0000, 0.0000, 0.0000],\n",
       "        [0.3333, 0.3333, 0.3333, 0.0000, 0.0000, 0.0000, 0.0000, 0.0000],\n",
       "        [0.2500, 0.2500, 0.2500, 0.2500, 0.0000, 0.0000, 0.0000, 0.0000],\n",
       "        [0.2000, 0.2000, 0.2000, 0.2000, 0.2000, 0.0000, 0.0000, 0.0000],\n",
       "        [0.1667, 0.1667, 0.1667, 0.1667, 0.1667, 0.1667, 0.0000, 0.0000],\n",
       "        [0.1429, 0.1429, 0.1429, 0.1429, 0.1429, 0.1429, 0.1429, 0.0000],\n",
       "        [0.1250, 0.1250, 0.1250, 0.1250, 0.1250, 0.1250, 0.1250, 0.1250]])"
      ]
     },
     "execution_count": 25,
     "metadata": {},
     "output_type": "execute_result"
    }
   ],
   "source": [
    "wei  = wei / wei.sum(dim=1, keepdim=True)\n",
    "wei"
   ]
  },
  {
   "cell_type": "code",
   "execution_count": 28,
   "id": "ff883b14-5c5f-48e2-95a9-28626cfc3e53",
   "metadata": {
    "tags": []
   },
   "outputs": [
    {
     "data": {
      "text/plain": [
       "True"
      ]
     },
     "execution_count": 28,
     "metadata": {},
     "output_type": "execute_result"
    }
   ],
   "source": [
    "xbow2 = wei @ x\n",
    "torch.allclose(xbow2, xbow)"
   ]
  },
  {
   "cell_type": "markdown",
   "id": "6c7de227-2806-4057-86a0-f512d0496803",
   "metadata": {},
   "source": [
    "#### v3"
   ]
  },
  {
   "cell_type": "code",
   "execution_count": 29,
   "id": "4c3d3cc4-4c77-421d-8145-54fcd012c8bb",
   "metadata": {
    "tags": []
   },
   "outputs": [
    {
     "data": {
      "text/plain": [
       "tensor([[1.0000, 0.0000, 0.0000, 0.0000, 0.0000, 0.0000, 0.0000, 0.0000],\n",
       "        [0.5000, 0.5000, 0.0000, 0.0000, 0.0000, 0.0000, 0.0000, 0.0000],\n",
       "        [0.3333, 0.3333, 0.3333, 0.0000, 0.0000, 0.0000, 0.0000, 0.0000],\n",
       "        [0.2500, 0.2500, 0.2500, 0.2500, 0.0000, 0.0000, 0.0000, 0.0000],\n",
       "        [0.2000, 0.2000, 0.2000, 0.2000, 0.2000, 0.0000, 0.0000, 0.0000],\n",
       "        [0.1667, 0.1667, 0.1667, 0.1667, 0.1667, 0.1667, 0.0000, 0.0000],\n",
       "        [0.1429, 0.1429, 0.1429, 0.1429, 0.1429, 0.1429, 0.1429, 0.0000],\n",
       "        [0.1250, 0.1250, 0.1250, 0.1250, 0.1250, 0.1250, 0.1250, 0.1250]])"
      ]
     },
     "execution_count": 29,
     "metadata": {},
     "output_type": "execute_result"
    }
   ],
   "source": [
    "tril = torch.tril(torch.ones((T, T)))\n",
    "# this should be trainable in the future vertsion\n",
    "wei  = torch.zeros((T, T))\n",
    "wei = F.softmax(wei.masked_fill(tril == 0, -float('inf')), dim=1)\n",
    "wei"
   ]
  },
  {
   "cell_type": "code",
   "execution_count": 30,
   "id": "24604ea6-88f5-4b6d-8828-7e9c8ca2c4e4",
   "metadata": {
    "tags": []
   },
   "outputs": [
    {
     "data": {
      "text/plain": [
       "True"
      ]
     },
     "execution_count": 30,
     "metadata": {},
     "output_type": "execute_result"
    }
   ],
   "source": [
    "torch.allclose(wei @ x, xbow)"
   ]
  },
  {
   "cell_type": "markdown",
   "id": "f393558e-c3ea-449b-b1c9-d974bc156358",
   "metadata": {
    "jp-MarkdownHeadingCollapsed": true,
    "tags": []
   },
   "source": [
    "### Self attention module"
   ]
  },
  {
   "cell_type": "markdown",
   "id": "6c3427f3-868d-411d-89c4-f0e248e2510e",
   "metadata": {
    "tags": []
   },
   "source": [
    "#### Core"
   ]
  },
  {
   "cell_type": "code",
   "execution_count": 31,
   "id": "ace8ed96-e8ea-438c-89ba-75aa10aaf4ae",
   "metadata": {
    "tags": []
   },
   "outputs": [
    {
     "data": {
      "text/plain": [
       "torch.Size([4, 8, 16])"
      ]
     },
     "execution_count": 31,
     "metadata": {},
     "output_type": "execute_result"
    }
   ],
   "source": [
    "# self attention\n",
    "torch.manual_seed(1337)\n",
    "B, T, C = 4, 8, 32\n",
    "head_size = 16\n",
    "x = torch.randn((B, T, C))\n",
    "\n",
    "# in case of cross attention key & value come from encoder part\n",
    "key = nn.Linear(C, head_size, bias=False) \n",
    "value = nn.Linear(C, head_size, bias=False)\n",
    "query = nn.Linear(C, head_size, bias=False)\n",
    "\n",
    "k = key(x) # B T head_size\n",
    "q = query(x) # B T head_size\n",
    "v = value(x) # B T head_size\n",
    "\n",
    "wei = q @ k.transpose(-2, -1) # B T head_size @ B head_size T -> B T T\n",
    "tril = torch.tril(torch.ones(T, T))\n",
    "wei = wei.masked_fill(tril == 0, float('-inf')) # difference between autoencoder and generator\n",
    "wei = F.softmax(wei, dim=-1)\n",
    "\n",
    "out = wei @ v\n",
    "out.shape"
   ]
  },
  {
   "cell_type": "code",
   "execution_count": 32,
   "id": "0e26123b-d001-421a-9977-fc887a361216",
   "metadata": {
    "tags": []
   },
   "outputs": [
    {
     "data": {
      "text/plain": [
       "(torch.Size([4, 8, 8]), torch.Size([4, 8, 16]))"
      ]
     },
     "execution_count": 32,
     "metadata": {},
     "output_type": "execute_result"
    }
   ],
   "source": [
    "wei.shape, v.shape"
   ]
  },
  {
   "cell_type": "code",
   "execution_count": 40,
   "id": "441c7935-1bed-4ac9-89ef-dac5626e8522",
   "metadata": {
    "tags": []
   },
   "outputs": [
    {
     "data": {
      "text/plain": [
       "tensor([[1.0000, 0.0000, 0.0000, 0.0000, 0.0000, 0.0000, 0.0000, 0.0000],\n",
       "        [0.7000, 0.3000, 0.0000, 0.0000, 0.0000, 0.0000, 0.0000, 0.0000],\n",
       "        [0.7000, 0.2000, 0.1000, 0.0000, 0.0000, 0.0000, 0.0000, 0.0000],\n",
       "        [0.1000, 0.8000, 0.0000, 0.1000, 0.0000, 0.0000, 0.0000, 0.0000],\n",
       "        [0.8000, 0.0000, 0.0000, 0.0000, 0.1000, 0.0000, 0.0000, 0.0000],\n",
       "        [0.0000, 0.0000, 0.0000, 0.2000, 0.0000, 0.8000, 0.0000, 0.0000],\n",
       "        [0.1000, 0.1000, 0.2000, 0.1000, 0.2000, 0.0000, 0.2000, 0.0000],\n",
       "        [0.0000, 0.2000, 0.1000, 0.2000, 0.2000, 0.0000, 0.1000, 0.1000]],\n",
       "       grad_fn=<RoundBackward1>)"
      ]
     },
     "execution_count": 40,
     "metadata": {},
     "output_type": "execute_result"
    }
   ],
   "source": [
    "torch.round(wei[0], decimals=1)"
   ]
  },
  {
   "cell_type": "code",
   "execution_count": 17,
   "id": "f565ac68-08f7-49f7-8cce-b0937ea6bc40",
   "metadata": {
    "tags": []
   },
   "outputs": [
    {
     "data": {
      "text/plain": [
       "torch.Size([4, 8, 16])"
      ]
     },
     "execution_count": 17,
     "metadata": {},
     "output_type": "execute_result"
    }
   ],
   "source": [
    "out.shape"
   ]
  },
  {
   "cell_type": "markdown",
   "id": "d6192949-904c-4f41-90ad-7ebf42ca2fe4",
   "metadata": {
    "jp-MarkdownHeadingCollapsed": true,
    "tags": []
   },
   "source": [
    "#### Variance scaling"
   ]
  },
  {
   "cell_type": "code",
   "execution_count": 41,
   "id": "fbb16256-6388-40ea-a828-e2336a04f8c5",
   "metadata": {
    "tags": []
   },
   "outputs": [
    {
     "name": "stdout",
     "output_type": "stream",
     "text": [
      "tensor(1.0449) tensor(1.0700) tensor(17.4690) 16\n",
      "tensor(0.9006) tensor(1.0037) tensor(0.9957) 16 0.25\n"
     ]
    }
   ],
   "source": [
    "# Note on variance\n",
    "q = torch.randn(B, T, head_size)\n",
    "k = torch.randn(B, T, head_size)\n",
    "wei = q @ k.transpose(-2, -1)\n",
    "print(q.var(), k.var(), wei.var(), head_size)\n",
    "\n",
    "q = torch.randn(B, T, head_size)\n",
    "k = torch.randn(B, T, head_size)\n",
    "wei = q @ k.transpose(-2, -1) * head_size**-0.5\n",
    "print(q.var(), k.var(), wei.var(), head_size, head_size**-0.5)"
   ]
  },
  {
   "cell_type": "code",
   "execution_count": 46,
   "id": "087eff57-385f-4c88-b1d6-700c81838e01",
   "metadata": {
    "tags": []
   },
   "outputs": [
    {
     "name": "stderr",
     "output_type": "stream",
     "text": [
      "/tmp/ipykernel_77349/3604809417.py:2: UserWarning: Implicit dimension choice for softmax has been deprecated. Change the call to include dim=X as an argument.\n",
      "  torch.round(F.softmax(torch.tensor([[-2,2,5]], dtype=torch.float)), decimals=3), torch.round(F.softmax(torch.tensor([[-2,2,5]], dtype=torch.float) * 5), decimals=5)\n"
     ]
    },
    {
     "data": {
      "text/plain": [
       "(tensor([[0.0010, 0.0470, 0.9520]]), tensor([[0., 0., 1.]]))"
      ]
     },
     "execution_count": 46,
     "metadata": {},
     "output_type": "execute_result"
    }
   ],
   "source": [
    "# In case distribution is sharp, softmax is peaky and takes extremes\n",
    "torch.round(F.softmax(torch.tensor([[-2,2,5]], dtype=torch.float)), decimals=3), torch.round(F.softmax(torch.tensor([[-2,2,5]], dtype=torch.float) * 5), decimals=5)"
   ]
  },
  {
   "cell_type": "markdown",
   "id": "cd61bbeb-7bcb-4860-97f8-e472abdedaa0",
   "metadata": {
    "jp-MarkdownHeadingCollapsed": true,
    "tags": []
   },
   "source": [
    "#### Use one matrix for multihead"
   ]
  },
  {
   "cell_type": "code",
   "execution_count": 96,
   "id": "dad97e86-6064-49be-a762-b295d2587ce4",
   "metadata": {
    "tags": []
   },
   "outputs": [
    {
     "data": {
      "text/plain": [
       "torch.Size([4, 8, 16])"
      ]
     },
     "execution_count": 96,
     "metadata": {},
     "output_type": "execute_result"
    }
   ],
   "source": [
    "# self attention\n",
    "torch.manual_seed(1337)\n",
    "B, T, C = 4, 8, 32\n",
    "heads = 1\n",
    "n_embed = 16\n",
    "n_hembed = int(n_embed / heads)\n",
    "x = torch.randn((B, T, C))\n",
    "\n",
    "# in case of cross attention key & value come from encoder part\n",
    "key = nn.Linear(C, n_hembed, bias=False) \n",
    "value = nn.Linear(C, n_hembed, bias=False)\n",
    "query = nn.Linear(C, n_hembed, bias=False)\n",
    "\n",
    "k = key(x) # B T head_size\n",
    "q = query(x) # B T head_size\n",
    "v = value(x) # B T head_size\n",
    "\n",
    "wei = q @ k.transpose(-2, -1) # B T head_size @ B head_size T -> B T T\n",
    "tril = torch.tril(torch.ones(T, T))\n",
    "wei = wei.masked_fill(tril == 0, float('-inf')) # difference between autoencoder and generator\n",
    "wei = F.softmax(wei, dim=-1)\n",
    "\n",
    "out = wei @ v\n",
    "out.shape"
   ]
  },
  {
   "cell_type": "code",
   "execution_count": 97,
   "id": "d592db2a-431d-49b2-a98c-054f6172d768",
   "metadata": {
    "tags": []
   },
   "outputs": [
    {
     "data": {
      "text/plain": [
       "Linear(in_features=32, out_features=16, bias=False)"
      ]
     },
     "execution_count": 97,
     "metadata": {},
     "output_type": "execute_result"
    }
   ],
   "source": [
    "key"
   ]
  },
  {
   "cell_type": "code",
   "execution_count": 98,
   "id": "97e3e592-10f8-4f76-9839-e595b1b0963c",
   "metadata": {
    "tags": []
   },
   "outputs": [
    {
     "data": {
      "text/plain": [
       "torch.Size([16, 32])"
      ]
     },
     "execution_count": 98,
     "metadata": {},
     "output_type": "execute_result"
    }
   ],
   "source": [
    "key.weight.shape"
   ]
  },
  {
   "cell_type": "code",
   "execution_count": 99,
   "id": "03bf218c-fa57-403c-9cbb-8f154bc074ec",
   "metadata": {
    "tags": []
   },
   "outputs": [
    {
     "data": {
      "text/plain": [
       "torch.Size([4, 8, 32])"
      ]
     },
     "execution_count": 99,
     "metadata": {},
     "output_type": "execute_result"
    }
   ],
   "source": [
    "torch.cat([out, out], dim=-1).shape"
   ]
  },
  {
   "cell_type": "code",
   "execution_count": 134,
   "id": "aa535809-f80b-4799-9774-f3087d3ef002",
   "metadata": {
    "tags": []
   },
   "outputs": [],
   "source": [
    "w = torch.cat([query.weight for _ in range(heads)] + [key.weight for _ in range(heads)] + [value.weight for _ in range(heads)], dim=0)\n",
    "c_attn = nn.Linear(w.shape[1], w.shape[0], bias=False)\n",
    "with torch.no_grad():\n",
    "    c_attn.weight = nn.Parameter(w) "
   ]
  },
  {
   "cell_type": "code",
   "execution_count": 135,
   "id": "6191476a-f26b-4dcf-8df6-055f47ed11d7",
   "metadata": {
    "tags": []
   },
   "outputs": [
    {
     "data": {
      "text/plain": [
       "Linear(in_features=32, out_features=48, bias=False)"
      ]
     },
     "execution_count": 135,
     "metadata": {},
     "output_type": "execute_result"
    }
   ],
   "source": [
    "c_attn"
   ]
  },
  {
   "cell_type": "code",
   "execution_count": 138,
   "id": "da5dc1d2-7dc1-4554-b026-9b37a2176287",
   "metadata": {
    "tags": []
   },
   "outputs": [
    {
     "data": {
      "text/plain": [
       "True"
      ]
     },
     "execution_count": 138,
     "metadata": {},
     "output_type": "execute_result"
    }
   ],
   "source": [
    "torch.allclose(c_attn.weight[:n_hembed], query.weight)"
   ]
  },
  {
   "cell_type": "code",
   "execution_count": 136,
   "id": "bfddce7f-38e2-4498-a874-0b7d103241d1",
   "metadata": {
    "tags": []
   },
   "outputs": [],
   "source": [
    "qq, kk, vv = c_attn(x).split(n_embed, dim=2)"
   ]
  },
  {
   "cell_type": "code",
   "execution_count": 137,
   "id": "001b2eb1-bdb7-44d2-8650-d73aea9d4d97",
   "metadata": {
    "tags": []
   },
   "outputs": [
    {
     "data": {
      "text/plain": [
       "tensor([[-0.1571,  0.8801,  0.1615, -0.7824, -0.1429,  0.7468,  0.1007, -0.5239,\n",
       "         -0.8873,  0.1907,  0.1762, -0.5943, -0.4812, -0.4860,  0.2862,  0.5710],\n",
       "        [ 0.8321, -0.8144, -0.3242,  0.5191, -0.1252, -0.4898, -0.5287, -0.0314,\n",
       "          0.1072,  0.8269,  0.8132, -0.0271,  0.4775,  0.4980, -0.1377,  1.4025],\n",
       "        [ 0.6035, -0.2500, -0.6159,  0.4068,  0.3328, -0.3910,  0.1312,  0.2172,\n",
       "         -0.1299, -0.8828,  0.1724,  0.4652, -0.4271, -0.0768, -0.2852,  1.3875],\n",
       "        [ 0.6657, -0.7096, -0.6099,  0.4348,  0.8975, -0.9298,  0.0683,  0.1863,\n",
       "          0.5400,  0.2427, -0.6923,  0.4977,  0.4850,  0.6608,  0.8767,  0.0746],\n",
       "        [ 0.1536,  1.0439,  0.8457,  0.2388,  0.3005,  1.0516,  0.7637,  0.4517,\n",
       "         -0.7426, -1.4395, -0.4941, -0.3709, -1.1819,  0.1000, -0.1806,  0.5129],\n",
       "        [-0.8920,  0.0578, -0.3350,  0.8477,  0.3876,  0.1664, -0.4587, -0.5974,\n",
       "          0.4961,  0.6548,  0.0548,  0.9468,  0.4511,  0.1200,  1.0573, -0.2257],\n",
       "        [-0.4849,  0.1655, -0.2221, -0.1345, -0.0864, -0.6628, -0.0936,  0.1050,\n",
       "         -0.2612,  0.1854,  0.3171, -0.1393,  0.5486, -0.4086, -0.3851,  0.7106],\n",
       "        [ 0.2042,  0.3772, -1.1255,  0.3995,  0.1489,  0.3590, -0.1791,  1.3732,\n",
       "          0.1588, -0.2320,  0.1651,  0.7604,  0.3521, -1.0864, -0.7939, -0.3025]],\n",
       "       grad_fn=<SelectBackward0>)"
      ]
     },
     "execution_count": 137,
     "metadata": {},
     "output_type": "execute_result"
    }
   ],
   "source": [
    "qq.view(B, T, heads, n_hembed).transpose(1, 2)[0][0]"
   ]
  },
  {
   "cell_type": "code",
   "execution_count": 141,
   "id": "613d2172-8e59-4258-afcd-099a477b71fb",
   "metadata": {
    "tags": []
   },
   "outputs": [
    {
     "data": {
      "text/plain": [
       "True"
      ]
     },
     "execution_count": 141,
     "metadata": {},
     "output_type": "execute_result"
    }
   ],
   "source": [
    "torch.allclose(q[0], qq.view(B, T, heads, n_hembed).transpose(1, 2)[0][0])"
   ]
  },
  {
   "cell_type": "code",
   "execution_count": 133,
   "id": "2a26e27e-b7ef-4f22-b8cb-e99338f3fa89",
   "metadata": {
    "tags": []
   },
   "outputs": [
    {
     "data": {
      "text/plain": [
       "(tensor([-0.1571,  0.8801,  0.1615, -0.7824, -0.1429,  0.7468,  0.1007, -0.5239,\n",
       "         -0.8873,  0.1907,  0.1762, -0.5943, -0.4812, -0.4860,  0.2862,  0.5710],\n",
       "        grad_fn=<SliceBackward0>),\n",
       " tensor([-0.1571,  0.8801,  0.1615, -0.7824, -0.1429,  0.7468,  0.1007, -0.5239,\n",
       "         -0.8873,  0.1907,  0.1762, -0.5943, -0.4812, -0.4860,  0.2862,  0.5710],\n",
       "        grad_fn=<SelectBackward0>))"
      ]
     },
     "execution_count": 133,
     "metadata": {},
     "output_type": "execute_result"
    }
   ],
   "source": [
    "k=0\n",
    "c_attn(x)[0][0][k*n_embed:(k+1)*n_embed], q[0][0]"
   ]
  },
  {
   "cell_type": "markdown",
   "id": "b18ee122-2323-4457-9089-d1c4e36d26a7",
   "metadata": {
    "jp-MarkdownHeadingCollapsed": true,
    "tags": []
   },
   "source": [
    "### Batch nomr 1d"
   ]
  },
  {
   "cell_type": "code",
   "execution_count": 12,
   "id": "a4e7ea94-b245-42f7-890b-ffe1b3635e22",
   "metadata": {
    "tags": []
   },
   "outputs": [],
   "source": [
    "class BatchNorm1d:\n",
    "    def __init__(self, dim, eps=1e-5):\n",
    "        self.eps = eps\n",
    "        self.gamma = torch.ones(dim)\n",
    "        self.beta = torch.zeros(dim)\n",
    "        \n",
    "    def __call__(self, x):\n",
    "        xmean = x.mean(dim=1, keepdim=True)\n",
    "        xvar = x.var(dim=1, keepdim=True)\n",
    "        xhat = (x - xmean) / torch.sqrt(xvar + self.eps)\n",
    "        return self.gamma * xhat + self.beta\n",
    "    \n",
    "    def parameters(self):\n",
    "        return [self.gamam, self.beta]"
   ]
  },
  {
   "cell_type": "code",
   "execution_count": 16,
   "id": "d7388f1f-6145-4e88-98e7-54e512fa7b75",
   "metadata": {
    "tags": []
   },
   "outputs": [],
   "source": [
    "torch.manual_seed(1337)\n",
    "bn = BatchNorm1d(100)\n",
    "\n",
    "x = torch.randn(32, 100)\n",
    "x = bn(x)"
   ]
  },
  {
   "cell_type": "code",
   "execution_count": 18,
   "id": "4141093f-3e14-4c01-bb53-438345c3f57e",
   "metadata": {
    "tags": []
   },
   "outputs": [
    {
     "data": {
      "text/plain": [
       "(tensor(-9.5367e-09), tensor(1.0000), tensor(9.5367e-09), tensor(1.))"
      ]
     },
     "execution_count": 18,
     "metadata": {},
     "output_type": "execute_result"
    }
   ],
   "source": [
    "x[0, :].mean(), x[0, :].std(), ((x[1, :] - x[1, :].mean())/x[1, :].std()).mean(),  ((x[1, :] - x[1, :].mean())/x[1, :].std()).std()"
   ]
  },
  {
   "cell_type": "markdown",
   "id": "822b7094-5edf-48ce-a68b-4f9302a8a845",
   "metadata": {
    "jp-MarkdownHeadingCollapsed": true,
    "tags": []
   },
   "source": [
    "### GELU"
   ]
  },
  {
   "cell_type": "code",
   "execution_count": 24,
   "id": "9716ce1f-9d46-4c57-92fb-67433f80c9f2",
   "metadata": {
    "tags": []
   },
   "outputs": [],
   "source": [
    "def new_gelu(x):\n",
    "    \"\"\"\n",
    "    Implementation of the GELU activation function currently in Google BERT repo (identical to OpenAI GPT).\n",
    "    Reference: Gaussian Error Linear Units (GELU) paper: https://arxiv.org/abs/1606.08415\n",
    "    \"\"\"\n",
    "    return 0.5 * x * (1.0 + torch.tanh(math.sqrt(2.0 / math.pi) * (x + 0.044715 * torch.pow(x, 3.0))))"
   ]
  },
  {
   "cell_type": "code",
   "execution_count": 27,
   "id": "07e665be-7542-48c0-8ba8-59abe77e74a2",
   "metadata": {
    "tags": []
   },
   "outputs": [
    {
     "data": {
      "text/plain": [
       "[<matplotlib.lines.Line2D at 0x7fc2bb04d940>]"
      ]
     },
     "execution_count": 27,
     "metadata": {},
     "output_type": "execute_result"
    },
    {
     "data": {
      "image/png": "[encoded data removed]",
      "text/plain": [
       "<Figure size 640x480 with 1 Axes>"
      ]
     },
     "metadata": {},
     "output_type": "display_data"
    }
   ],
   "source": [
    "plt.plot(np.linspace(-5,5, 200), list(map(lambda x: new_gelu(torch.tensor(x)), np.linspace(-5,5,200))))"
   ]
  },
  {
   "cell_type": "markdown",
   "id": "b458266c-10a1-4ad3-acee-9a184ae352af",
   "metadata": {
    "jp-MarkdownHeadingCollapsed": true,
    "tags": []
   },
   "source": [
    "### Optimmizer setup"
   ]
  },
  {
   "cell_type": "code",
   "execution_count": 148,
   "id": "9c5dc3aa-fb6a-478d-b4dd-221865bf649a",
   "metadata": {
    "tags": []
   },
   "outputs": [],
   "source": [
    "from decoder import DecoderModel\n",
    "from config import decoder_config as config\n",
    "config.vocab_size = 100"
   ]
  },
  {
   "cell_type": "code",
   "execution_count": 149,
   "id": "060c15c7-d301-4b23-9402-97ca324e6fa9",
   "metadata": {
    "tags": []
   },
   "outputs": [],
   "source": [
    "model = DecoderModel(config)"
   ]
  },
  {
   "cell_type": "code",
   "execution_count": 151,
   "id": "3fa40f20-5551-4428-ae7b-2e47f77ef379",
   "metadata": {
    "tags": []
   },
   "outputs": [
    {
     "data": {
      "text/plain": [
       "DecoderModel(\n",
       "  (token_embedding_table): Embedding(100, 384)\n",
       "  (position_embedding_table): Embedding(64, 384)\n",
       "  (blocks): Sequential(\n",
       "    (0): Block(\n",
       "      (sa_head): MultiHeadAttentionV2(\n",
       "        (c_attn): Linear(in_features=384, out_features=1152, bias=False)\n",
       "        (c_proj): Linear(in_features=384, out_features=384, bias=False)\n",
       "        (attn_dropout): Dropout(p=0.2, inplace=False)\n",
       "        (resid_dropout): Dropout(p=0.2, inplace=False)\n",
       "      )\n",
       "      (ffwd): FeedForward(\n",
       "        (c_fc): Linear(in_features=384, out_features=1536, bias=False)\n",
       "        (c_proj): Linear(in_features=1536, out_features=384, bias=False)\n",
       "        (dropout): Dropout(p=0.2, inplace=False)\n",
       "      )\n",
       "      (ln1): LayerNorm((384,), eps=1e-05, elementwise_affine=True)\n",
       "      (ln2): LayerNorm((384,), eps=1e-05, elementwise_affine=True)\n",
       "    )\n",
       "    (1): Block(\n",
       "      (sa_head): MultiHeadAttentionV2(\n",
       "        (c_attn): Linear(in_features=384, out_features=1152, bias=False)\n",
       "        (c_proj): Linear(in_features=384, out_features=384, bias=False)\n",
       "        (attn_dropout): Dropout(p=0.2, inplace=False)\n",
       "        (resid_dropout): Dropout(p=0.2, inplace=False)\n",
       "      )\n",
       "      (ffwd): FeedForward(\n",
       "        (c_fc): Linear(in_features=384, out_features=1536, bias=False)\n",
       "        (c_proj): Linear(in_features=1536, out_features=384, bias=False)\n",
       "        (dropout): Dropout(p=0.2, inplace=False)\n",
       "      )\n",
       "      (ln1): LayerNorm((384,), eps=1e-05, elementwise_affine=True)\n",
       "      (ln2): LayerNorm((384,), eps=1e-05, elementwise_affine=True)\n",
       "    )\n",
       "    (2): Block(\n",
       "      (sa_head): MultiHeadAttentionV2(\n",
       "        (c_attn): Linear(in_features=384, out_features=1152, bias=False)\n",
       "        (c_proj): Linear(in_features=384, out_features=384, bias=False)\n",
       "        (attn_dropout): Dropout(p=0.2, inplace=False)\n",
       "        (resid_dropout): Dropout(p=0.2, inplace=False)\n",
       "      )\n",
       "      (ffwd): FeedForward(\n",
       "        (c_fc): Linear(in_features=384, out_features=1536, bias=False)\n",
       "        (c_proj): Linear(in_features=1536, out_features=384, bias=False)\n",
       "        (dropout): Dropout(p=0.2, inplace=False)\n",
       "      )\n",
       "      (ln1): LayerNorm((384,), eps=1e-05, elementwise_affine=True)\n",
       "      (ln2): LayerNorm((384,), eps=1e-05, elementwise_affine=True)\n",
       "    )\n",
       "  )\n",
       "  (ln_f): LayerNorm((384,), eps=1e-05, elementwise_affine=True)\n",
       "  (lm_head): Linear(in_features=384, out_features=100, bias=False)\n",
       ")"
      ]
     },
     "execution_count": 151,
     "metadata": {},
     "output_type": "execute_result"
    }
   ],
   "source": [
    "model"
   ]
  },
  {
   "cell_type": "code",
   "execution_count": 157,
   "id": "4a717575-4e0f-4c2a-8fdc-4fdef4356b17",
   "metadata": {
    "tags": []
   },
   "outputs": [],
   "source": [
    "# separate out all parameters to those that will and won't experience regularizing weight decay\n",
    "decay = set()\n",
    "no_decay = set()\n",
    "whitelist_weight_modules = (torch.nn.Linear, )\n",
    "blacklist_weight_modules = (torch.nn.LayerNorm, torch.nn.Embedding)\n",
    "for mn, m in model.named_modules():\n",
    "    for pn, p in m.named_parameters():\n",
    "        fpn = '%s.%s' % (mn, pn) if mn else pn # full param name\n",
    "        # random note: because named_modules and named_parameters are recursive\n",
    "        # we will see the same tensors p many many times. but doing it this way\n",
    "        # allows us to know which parent module any tensor p belongs to...\n",
    "        if pn.endswith('bias'):\n",
    "            # all biases will not be decayed\n",
    "            no_decay.add(fpn)\n",
    "        elif pn.endswith('weight') and isinstance(m, whitelist_weight_modules):\n",
    "            # weights of whitelist modules will be weight decayed\n",
    "            decay.add(fpn)\n",
    "        elif pn.endswith('weight') and isinstance(m, blacklist_weight_modules):\n",
    "            # weights of blacklist modules will NOT be weight decayed\n",
    "            no_decay.add(fpn)"
   ]
  },
  {
   "cell_type": "code",
   "execution_count": 158,
   "id": "d71bfd59-90a1-40dc-b735-6c78aef6ceca",
   "metadata": {
    "tags": []
   },
   "outputs": [
    {
     "data": {
      "text/plain": [
       "{'blocks.0.ffwd.c_fc.weight',\n",
       " 'blocks.0.ffwd.c_proj.weight',\n",
       " 'blocks.0.sa_head.c_attn.weight',\n",
       " 'blocks.0.sa_head.c_proj.weight',\n",
       " 'blocks.1.ffwd.c_fc.weight',\n",
       " 'blocks.1.ffwd.c_proj.weight',\n",
       " 'blocks.1.sa_head.c_attn.weight',\n",
       " 'blocks.1.sa_head.c_proj.weight',\n",
       " 'blocks.2.ffwd.c_fc.weight',\n",
       " 'blocks.2.ffwd.c_proj.weight',\n",
       " 'blocks.2.sa_head.c_attn.weight',\n",
       " 'blocks.2.sa_head.c_proj.weight',\n",
       " 'lm_head.weight'}"
      ]
     },
     "execution_count": 158,
     "metadata": {},
     "output_type": "execute_result"
    }
   ],
   "source": [
    "# l2 regularized\n",
    "decay"
   ]
  },
  {
   "cell_type": "code",
   "execution_count": 159,
   "id": "ca8c22d0-6ee7-4188-8635-ea0531f8e352",
   "metadata": {
    "tags": []
   },
   "outputs": [
    {
     "data": {
      "text/plain": [
       "{'blocks.0.ln1.bias',\n",
       " 'blocks.0.ln1.weight',\n",
       " 'blocks.0.ln2.bias',\n",
       " 'blocks.0.ln2.weight',\n",
       " 'blocks.1.ln1.bias',\n",
       " 'blocks.1.ln1.weight',\n",
       " 'blocks.1.ln2.bias',\n",
       " 'blocks.1.ln2.weight',\n",
       " 'blocks.2.ln1.bias',\n",
       " 'blocks.2.ln1.weight',\n",
       " 'blocks.2.ln2.bias',\n",
       " 'blocks.2.ln2.weight',\n",
       " 'ln_f.bias',\n",
       " 'ln_f.weight',\n",
       " 'position_embedding_table.weight',\n",
       " 'token_embedding_table.weight'}"
      ]
     },
     "execution_count": 159,
     "metadata": {},
     "output_type": "execute_result"
    }
   ],
   "source": [
    "no_decay"
   ]
  },
  {
   "cell_type": "markdown",
   "id": "6d626854-18fd-4449-8c40-b5edb612d545",
   "metadata": {},
   "source": [
    "### Next"
   ]
  },
  {
   "cell_type": "code",
   "execution_count": null,
   "id": "f1c6c8bb-65f8-4f0b-946a-096309a03f75",
   "metadata": {},
   "outputs": [],
   "source": []
  }
 ],
 "metadata": {
  "kernelspec": {
   "display_name": "Python 3 (ipykernel)",
   "language": "python",
   "name": "python3"
  },
  "language_info": {
   "codemirror_mode": {
    "name": "ipython",
    "version": 3
   },
   "file_extension": ".py",
   "mimetype": "text/x-python",
   "name": "python",
   "nbconvert_exporter": "python",
   "pygments_lexer": "ipython3",
   "version": "3.9.16"
  }
 },
 "nbformat": 4,
 "nbformat_minor": 5
}
