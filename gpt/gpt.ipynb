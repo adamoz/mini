{
 "cells": [
  {
   "cell_type": "code",
   "execution_count": 1,
   "id": "cbb501d0-e79c-4aef-b094-41ae9718466e",
   "metadata": {
    "tags": []
   },
   "outputs": [
    {
     "name": "stderr",
     "output_type": "stream",
     "text": [
      "/home/adam/miniconda/envs/gpt/lib/python3.9/site-packages/tqdm/auto.py:22: TqdmWarning: IProgress not found. Please update jupyter and ipywidgets. See https://ipywidgets.readthedocs.io/en/stable/user_install.html\n",
      "  from .autonotebook import tqdm as notebook_tqdm\n"
     ]
    }
   ],
   "source": [
    "import seaborn as sns\n",
    "import numpy as np\n",
    "import torch\n",
    "import torch.nn as nn\n",
    "from torch.nn import functional as F"
   ]
  },
  {
   "cell_type": "markdown",
   "id": "949f63ba-3059-4e53-bcbc-db6a426d0935",
   "metadata": {
    "jp-MarkdownHeadingCollapsed": true,
    "tags": []
   },
   "source": [
    "### Bigram model"
   ]
  },
  {
   "cell_type": "code",
   "execution_count": 3,
   "id": "7379e7fa-f795-4daf-a879-cb605f964c25",
   "metadata": {
    "tags": []
   },
   "outputs": [
    {
     "name": "stdout",
     "output_type": "stream",
     "text": [
      "--2023-02-11 23:39:58--  https://raw.githubusercontent.com/karpathy/char-rnn/master/data/tinyshakespeare/input.txt\n",
      "Resolving raw.githubusercontent.com (raw.githubusercontent.com)... 185.199.109.133, 185.199.108.133, 185.199.111.133, ...\n",
      "Connecting to raw.githubusercontent.com (raw.githubusercontent.com)|185.199.109.133|:443... connected.\n",
      "HTTP request sent, awaiting response... 200 OK\n",
      "Length: 1115394 (1,1M) [text/plain]\n",
      "Saving to: ‘shakespear.txt’\n",
      "\n",
      "shakespear.txt      100%[===================>]   1,06M  3,51MB/s    in 0,3s    \n",
      "\n",
      "2023-02-11 23:39:58 (3,51 MB/s) - ‘shakespear.txt’ saved [1115394/1115394]\n",
      "\n"
     ]
    }
   ],
   "source": [
    "!wget https://raw.githubusercontent.com/karpathy/char-rnn/master/data/tinyshakespeare/input.txt -O shakespear.txt"
   ]
  },
  {
   "cell_type": "code",
   "execution_count": 2,
   "id": "cd333a8d-a571-4e38-adb5-fc18a999c61e",
   "metadata": {
    "tags": []
   },
   "outputs": [],
   "source": [
    "with open('shakespear.txt', 'r', encoding='utf-8') as fr:\n",
    "    text = fr.read()"
   ]
  },
  {
   "cell_type": "code",
   "execution_count": 3,
   "id": "58b61d71-28b2-4287-92ed-28def7d390d0",
   "metadata": {
    "tags": []
   },
   "outputs": [
    {
     "name": "stdout",
     "output_type": "stream",
     "text": [
      "First Citizen:\n",
      "Before we proceed any further, hear me speak.\n",
      "\n",
      "All:\n",
      "Speak, speak.\n",
      "\n",
      "First Citizen:\n",
      "You are all resolved rather to die than to famish?\n",
      "\n",
      "All:\n",
      "Resolved. resolved.\n",
      "\n",
      "First Citizen:\n",
      "First, you know Caius Marcius is chief enemy to the people.\n",
      "\n",
      "All:\n",
      "We know't, we know't.\n",
      "\n",
      "First Citizen:\n",
      "Let us kill him, and we'll have corn at our own price.\n",
      "Is't a verdict?\n",
      "\n",
      "All:\n",
      "No more talking on't; let it be done: away, away!\n",
      "\n",
      "Second Citizen:\n",
      "One word, good citizens.\n",
      "\n",
      "First Citizen:\n",
      "We are accounted poor citizens, the patricians good.\n",
      "What authority surfeits on would relieve us: if they\n",
      "would yield us but the superfluity, while it were\n",
      "wholesome, we might guess they relieved us humanely;\n",
      "but they think we are too dear: the leanness that\n",
      "afflicts us, the object of our misery, is as an\n",
      "inventory to particularise their abundance; our\n",
      "sufferance is a gain to them Let us revenge this with\n",
      "our pikes, ere we become rakes: for the gods know I\n",
      "speak this in hunger for bread, not in thirst for revenge.\n",
      "\n",
      "\n"
     ]
    }
   ],
   "source": [
    "print(text[:1000])"
   ]
  },
  {
   "cell_type": "code",
   "execution_count": 4,
   "id": "5b630776-77d7-405a-bf78-2e163b3828fd",
   "metadata": {
    "tags": []
   },
   "outputs": [
    {
     "name": "stdout",
     "output_type": "stream",
     "text": [
      "Vocab size: 65\n",
      "\n",
      " !$&',-.3:;?ABCDEFGHIJKLMNOPQRSTUVWXYZabcdefghijklmnopqrstuvwxyz\n"
     ]
    }
   ],
   "source": [
    "chars = sorted(list(set(text)))\n",
    "vocab_size = len(chars)\n",
    "print(f\"Vocab size: {vocab_size}\")\n",
    "print(\"\".join(chars))"
   ]
  },
  {
   "cell_type": "code",
   "execution_count": 5,
   "id": "472803ca-c4ee-4db2-954e-7cf60e6b502d",
   "metadata": {
    "tags": []
   },
   "outputs": [
    {
     "name": "stdout",
     "output_type": "stream",
     "text": [
      "[46, 47, 47, 1, 58, 46, 43, 56, 43]\n",
      "hii there\n"
     ]
    }
   ],
   "source": [
    "stoi = {ch:i for i,ch in enumerate(chars)}\n",
    "itos  = {i:ch for i,ch in enumerate(chars)}\n",
    "\n",
    "encode = lambda s: [stoi[ch] for ch in s]\n",
    "decode = lambda l: \"\".join([itos[i] for i in l])\n",
    "\n",
    "print(encode(\"hii there\"))\n",
    "print(decode(encode(\"hii there\")))"
   ]
  },
  {
   "cell_type": "code",
   "execution_count": 6,
   "id": "fb41ff9a-9709-472b-abe9-0070e28db6c9",
   "metadata": {
    "tags": []
   },
   "outputs": [
    {
     "name": "stdout",
     "output_type": "stream",
     "text": [
      "torch.Size([1115394]) torch.int64\n",
      "tensor([18, 47, 56, 57, 58,  1, 15, 47, 58, 47, 64, 43, 52, 10,  0, 14, 43, 44,\n",
      "        53, 56, 43,  1, 61, 43,  1, 54, 56, 53, 41, 43, 43, 42,  1, 39, 52, 63,\n",
      "         1, 44, 59, 56, 58, 46, 43, 56,  6,  1, 46, 43, 39, 56,  1, 51, 43,  1,\n",
      "        57, 54, 43, 39, 49,  8,  0,  0, 13, 50, 50, 10,  0, 31, 54, 43, 39, 49,\n",
      "         6,  1, 57, 54, 43, 39, 49,  8,  0,  0, 18, 47, 56, 57, 58,  1, 15, 47,\n",
      "        58, 47, 64, 43, 52, 10,  0, 37, 53, 59])\n"
     ]
    }
   ],
   "source": [
    "data = torch.tensor(encode(text), dtype=torch.long)\n",
    "print(data.shape, data.dtype)\n",
    "print(data[:100])"
   ]
  },
  {
   "cell_type": "code",
   "execution_count": 7,
   "id": "27705ade-6478-4e65-998d-c1c7a47cbb82",
   "metadata": {
    "tags": []
   },
   "outputs": [
    {
     "name": "stdout",
     "output_type": "stream",
     "text": [
      "torch.Size([1003854]) torch.Size([111540])\n"
     ]
    }
   ],
   "source": [
    "n = int(0.9*len(data))\n",
    "train_data, valid_data = data[:n], data[n:]\n",
    "print(train_data.shape, valid_data.shape)"
   ]
  },
  {
   "cell_type": "code",
   "execution_count": 8,
   "id": "25ba3e6c-45d1-4341-b129-c95b6990bf1c",
   "metadata": {
    "tags": []
   },
   "outputs": [
    {
     "data": {
      "text/plain": [
       "tensor([18, 47, 56, 57, 58,  1, 15, 47, 58])"
      ]
     },
     "execution_count": 8,
     "metadata": {},
     "output_type": "execute_result"
    }
   ],
   "source": [
    "block_size = 8\n",
    "train_data[:block_size+1]"
   ]
  },
  {
   "cell_type": "code",
   "execution_count": 9,
   "id": "bec0cbe4-6c70-4a73-93ac-6368a51a5f44",
   "metadata": {
    "tags": []
   },
   "outputs": [
    {
     "name": "stdout",
     "output_type": "stream",
     "text": [
      "tensor([18]) tensor(47)\n",
      "tensor([18, 47]) tensor(56)\n",
      "tensor([18, 47, 56]) tensor(57)\n",
      "tensor([18, 47, 56, 57]) tensor(58)\n",
      "tensor([18, 47, 56, 57, 58]) tensor(1)\n",
      "tensor([18, 47, 56, 57, 58,  1]) tensor(15)\n",
      "tensor([18, 47, 56, 57, 58,  1, 15]) tensor(47)\n",
      "tensor([18, 47, 56, 57, 58,  1, 15, 47]) tensor(58)\n"
     ]
    }
   ],
   "source": [
    "x = train_data[:block_size]\n",
    "y = train_data[1:block_size+1]\n",
    "\n",
    "for t in range(block_size):\n",
    "    context = x[:t+1]\n",
    "    target = y[t]\n",
    "    print(context, target)\n",
    "    "
   ]
  },
  {
   "cell_type": "code",
   "execution_count": 10,
   "id": "3ced0d6d-b3a3-464a-a1ce-2f6e51825efc",
   "metadata": {
    "tags": []
   },
   "outputs": [],
   "source": [
    "torch.manual_seed(1337)\n",
    "batch_size = 4\n",
    "block_size = 8\n",
    "\n",
    "def get_batch(split):\n",
    "    data = train_data if split == 'train' else valid_data\n",
    "    ix = torch.randint(0, len(data) - block_size, (batch_size, ))\n",
    "    x = torch.stack([data[i:i+block_size] for i in ix])\n",
    "    y = torch.stack([data[i+1:i+block_size+1] for i in ix])\n",
    "    return x, y\n",
    "    "
   ]
  },
  {
   "cell_type": "code",
   "execution_count": 11,
   "id": "165de44d-3246-4e7a-bc4f-6ed6ca2a7840",
   "metadata": {
    "tags": []
   },
   "outputs": [
    {
     "data": {
      "text/plain": [
       "(tensor([[24, 43, 58,  5, 57,  1, 46, 43],\n",
       "         [44, 53, 56,  1, 58, 46, 39, 58],\n",
       "         [52, 58,  1, 58, 46, 39, 58,  1],\n",
       "         [25, 17, 27, 10,  0, 21,  1, 54]]),\n",
       " tensor([[43, 58,  5, 57,  1, 46, 43, 39],\n",
       "         [53, 56,  1, 58, 46, 39, 58,  1],\n",
       "         [58,  1, 58, 46, 39, 58,  1, 46],\n",
       "         [17, 27, 10,  0, 21,  1, 54, 39]]))"
      ]
     },
     "execution_count": 11,
     "metadata": {},
     "output_type": "execute_result"
    }
   ],
   "source": [
    "xb, yb = get_batch('train')\n",
    "xb, yb"
   ]
  },
  {
   "cell_type": "code",
   "execution_count": 12,
   "id": "d37501d4-27ad-4907-900a-90ef69f63bdf",
   "metadata": {
    "tags": []
   },
   "outputs": [
    {
     "name": "stdout",
     "output_type": "stream",
     "text": [
      "tensor([24]) tensor(43)\n",
      "tensor([24, 43]) tensor(58)\n",
      "tensor([24, 43, 58]) tensor(5)\n",
      "tensor([24, 43, 58,  5]) tensor(57)\n",
      "tensor([24, 43, 58,  5, 57]) tensor(1)\n",
      "tensor([24, 43, 58,  5, 57,  1]) tensor(46)\n",
      "tensor([24, 43, 58,  5, 57,  1, 46]) tensor(43)\n",
      "tensor([24, 43, 58,  5, 57,  1, 46, 43]) tensor(39)\n",
      "tensor([44]) tensor(53)\n",
      "tensor([44, 53]) tensor(56)\n",
      "tensor([44, 53, 56]) tensor(1)\n",
      "tensor([44, 53, 56,  1]) tensor(58)\n",
      "tensor([44, 53, 56,  1, 58]) tensor(46)\n",
      "tensor([44, 53, 56,  1, 58, 46]) tensor(39)\n",
      "tensor([44, 53, 56,  1, 58, 46, 39]) tensor(58)\n",
      "tensor([44, 53, 56,  1, 58, 46, 39, 58]) tensor(1)\n",
      "tensor([52]) tensor(58)\n",
      "tensor([52, 58]) tensor(1)\n",
      "tensor([52, 58,  1]) tensor(58)\n",
      "tensor([52, 58,  1, 58]) tensor(46)\n",
      "tensor([52, 58,  1, 58, 46]) tensor(39)\n",
      "tensor([52, 58,  1, 58, 46, 39]) tensor(58)\n",
      "tensor([52, 58,  1, 58, 46, 39, 58]) tensor(1)\n",
      "tensor([52, 58,  1, 58, 46, 39, 58,  1]) tensor(46)\n",
      "tensor([25]) tensor(17)\n",
      "tensor([25, 17]) tensor(27)\n",
      "tensor([25, 17, 27]) tensor(10)\n",
      "tensor([25, 17, 27, 10]) tensor(0)\n",
      "tensor([25, 17, 27, 10,  0]) tensor(21)\n",
      "tensor([25, 17, 27, 10,  0, 21]) tensor(1)\n",
      "tensor([25, 17, 27, 10,  0, 21,  1]) tensor(54)\n",
      "tensor([25, 17, 27, 10,  0, 21,  1, 54]) tensor(39)\n"
     ]
    }
   ],
   "source": [
    "for b in range(batch_size):\n",
    "    for t in range(block_size):\n",
    "        context = xb[b, :t+1]\n",
    "        target = yb[b, t]\n",
    "        print(context, target)"
   ]
  },
  {
   "cell_type": "code",
   "execution_count": 71,
   "id": "8a7a4259-0a22-4426-af9b-531e6caf609a",
   "metadata": {
    "tags": []
   },
   "outputs": [
    {
     "name": "stdout",
     "output_type": "stream",
     "text": [
      "torch.Size([32, 65])\n",
      "tensor(4.8786, grad_fn=<NllLossBackward0>) 4.174387269895637\n"
     ]
    }
   ],
   "source": [
    "torch.manual_seed(1337)\n",
    "\n",
    "class BigramLanguageModel(nn.Module):\n",
    "    def __init__(self, vocab_size):\n",
    "        super().__init__()\n",
    "        self.token_embedding_table = nn.Embedding(vocab_size, vocab_size)\n",
    "        \n",
    "    def forward(self, idx, targets=None):\n",
    "        logits = self.token_embedding_table(idx) # Batch Timestamp Channels\n",
    "        if targets is None:\n",
    "            loss = None\n",
    "        else:\n",
    "            B, T, C = logits.shape\n",
    "            logits = logits.view(B*T, C)\n",
    "            targets = targets.view(B*T)\n",
    "            loss = F.cross_entropy(logits, targets)\n",
    "        return logits, loss\n",
    "    \n",
    "    def generate(self, idx, max_new_tokens):\n",
    "        for _ in range(max_new_tokens):\n",
    "            logits, _ = self(idx)\n",
    "            logits = logits[:,-1, :]\n",
    "            probs = F.softmax(logits, dim=1)\n",
    "            idx_next = torch.multinomial(probs, num_samples=1)\n",
    "            idx = torch.cat((idx, idx_next), dim=1)\n",
    "        return idx\n",
    "    \n",
    "m = BigramLanguageModel(vocab_size=vocab_size)\n",
    "logits, loss = m(xb, yb)\n",
    "print(logits.shape)\n",
    "print(loss, -np.log(1/vocab_size))"
   ]
  },
  {
   "cell_type": "code",
   "execution_count": 72,
   "id": "3d20af71-888d-4d2f-8e9a-e67072ff19e7",
   "metadata": {},
   "outputs": [
    {
     "name": "stdout",
     "output_type": "stream",
     "text": [
      "\n",
      "SKIcLT;AcELMoTbvZv C?nq-QE33:CJqkOKH-q;:la!oiywkHjgChzbQ?u!3bLIgwevmyFJGUGp\n",
      "wnYWmnxKWWev-tDqXErVKLgJ\n"
     ]
    }
   ],
   "source": [
    "print(decode(m.generate(torch.zeros((1,1), dtype=torch.long), 100)[0].tolist()))"
   ]
  },
  {
   "cell_type": "code",
   "execution_count": null,
   "id": "7d604fdb-b638-41a7-8726-01fd4d2e1f0e",
   "metadata": {},
   "outputs": [],
   "source": [
    "batch_size = 32\n",
    "optimizer = torch.optim.AdamW(m.parameters(), lr=1e-3)"
   ]
  },
  {
   "cell_type": "code",
   "execution_count": 87,
   "id": "6207d41c-1b2a-43c0-9315-08eee93aa06a",
   "metadata": {
    "tags": []
   },
   "outputs": [
    {
     "name": "stdout",
     "output_type": "stream",
     "text": [
      "2.4007861614227295\n"
     ]
    }
   ],
   "source": [
    "for step in range(10000):\n",
    "    xb, yb  = get_batch('train')\n",
    "    _, loss = m(xb, yb)\n",
    "    optimizer.zero_grad(set_to_none=True)\n",
    "    loss.backward()\n",
    "    optimizer.step()\n",
    "print(loss.item())"
   ]
  },
  {
   "cell_type": "code",
   "execution_count": 91,
   "id": "2cbde813-b7a2-4875-a434-9778f2a1ee3a",
   "metadata": {
    "tags": []
   },
   "outputs": [
    {
     "name": "stdout",
     "output_type": "stream",
     "text": [
      "\n",
      "ge d m pomst' tontean uerend thees:\n",
      "Anlldonghe. d thabejethard apte ifisouthodibup figucend d here a\n"
     ]
    }
   ],
   "source": [
    "print(decode(m.generate(torch.zeros((1,1), dtype=torch.long), 100)[0].tolist()))"
   ]
  },
  {
   "cell_type": "markdown",
   "id": "435b3bec-61b0-4c1a-89fb-77f42781b600",
   "metadata": {},
   "source": [
    "### Self attention"
   ]
  },
  {
   "cell_type": "code",
   "execution_count": 6,
   "id": "63606465-38dd-44ba-bb2d-9c8a3cff601b",
   "metadata": {
    "tags": []
   },
   "outputs": [],
   "source": [
    "# version 1\n",
    "torch.manual_seed(1337)\n",
    "B, T, C = 4, 8, 2\n",
    "x = torch.randn((B, T, C))\n",
    "\n",
    "xbow = torch.randn((B, T, C))\n",
    "for b in range(B):\n",
    "    for t in range(T):\n",
    "        xprev = x[b,:t+1]\n",
    "        # takes just context from curent and previous positions\n",
    "        xbow[b,t] = torch.mean(xprev, axis=0)"
   ]
  },
  {
   "cell_type": "code",
   "execution_count": 7,
   "id": "94bf5bf9-d11c-44fa-be1b-80e56120d4d3",
   "metadata": {
    "tags": []
   },
   "outputs": [
    {
     "data": {
      "text/plain": [
       "(tensor([[ 0.1808, -0.0700],\n",
       "         [-0.3596, -0.9152],\n",
       "         [ 0.6258,  0.0255]]),\n",
       " tensor([[ 0.1808, -0.0700],\n",
       "         [-0.0894, -0.4926],\n",
       "         [ 0.1490, -0.3199]]))"
      ]
     },
     "execution_count": 7,
     "metadata": {},
     "output_type": "execute_result"
    }
   ],
   "source": [
    "x[0][:3], xbow[0][:3]"
   ]
  },
  {
   "cell_type": "code",
   "execution_count": 8,
   "id": "32961328-34fd-4be9-adb6-f131fc69f998",
   "metadata": {
    "tags": []
   },
   "outputs": [
    {
     "data": {
      "text/plain": [
       "tensor([[1.0000, 0.0000, 0.0000, 0.0000, 0.0000, 0.0000, 0.0000, 0.0000],\n",
       "        [0.5000, 0.5000, 0.0000, 0.0000, 0.0000, 0.0000, 0.0000, 0.0000],\n",
       "        [0.3333, 0.3333, 0.3333, 0.0000, 0.0000, 0.0000, 0.0000, 0.0000],\n",
       "        [0.2500, 0.2500, 0.2500, 0.2500, 0.0000, 0.0000, 0.0000, 0.0000],\n",
       "        [0.2000, 0.2000, 0.2000, 0.2000, 0.2000, 0.0000, 0.0000, 0.0000],\n",
       "        [0.1667, 0.1667, 0.1667, 0.1667, 0.1667, 0.1667, 0.0000, 0.0000],\n",
       "        [0.1429, 0.1429, 0.1429, 0.1429, 0.1429, 0.1429, 0.1429, 0.0000],\n",
       "        [0.1250, 0.1250, 0.1250, 0.1250, 0.1250, 0.1250, 0.1250, 0.1250]])"
      ]
     },
     "execution_count": 8,
     "metadata": {},
     "output_type": "execute_result"
    }
   ],
   "source": [
    "# version 2\n",
    "wei = torch.tril(torch.ones((T,T)))\n",
    "wei  = wei / wei.sum(dim=1, keepdim=True)\n",
    "wei"
   ]
  },
  {
   "cell_type": "code",
   "execution_count": 9,
   "id": "ff883b14-5c5f-48e2-95a9-28626cfc3e53",
   "metadata": {
    "tags": []
   },
   "outputs": [
    {
     "data": {
      "text/plain": [
       "True"
      ]
     },
     "execution_count": 9,
     "metadata": {},
     "output_type": "execute_result"
    }
   ],
   "source": [
    "xbow2 = wei @ x\n",
    "torch.allclose(xbow, xbow2)"
   ]
  },
  {
   "cell_type": "code",
   "execution_count": 10,
   "id": "4c3d3cc4-4c77-421d-8145-54fcd012c8bb",
   "metadata": {
    "tags": []
   },
   "outputs": [
    {
     "data": {
      "text/plain": [
       "tensor([[1.0000, 0.0000, 0.0000, 0.0000, 0.0000, 0.0000, 0.0000, 0.0000],\n",
       "        [0.5000, 0.5000, 0.0000, 0.0000, 0.0000, 0.0000, 0.0000, 0.0000],\n",
       "        [0.3333, 0.3333, 0.3333, 0.0000, 0.0000, 0.0000, 0.0000, 0.0000],\n",
       "        [0.2500, 0.2500, 0.2500, 0.2500, 0.0000, 0.0000, 0.0000, 0.0000],\n",
       "        [0.2000, 0.2000, 0.2000, 0.2000, 0.2000, 0.0000, 0.0000, 0.0000],\n",
       "        [0.1667, 0.1667, 0.1667, 0.1667, 0.1667, 0.1667, 0.0000, 0.0000],\n",
       "        [0.1429, 0.1429, 0.1429, 0.1429, 0.1429, 0.1429, 0.1429, 0.0000],\n",
       "        [0.1250, 0.1250, 0.1250, 0.1250, 0.1250, 0.1250, 0.1250, 0.1250]])"
      ]
     },
     "execution_count": 10,
     "metadata": {},
     "output_type": "execute_result"
    }
   ],
   "source": [
    "# version 3\n",
    "tril = torch.tril(torch.ones((T, T)))\n",
    "# this should be trainable in the future vertsion\n",
    "wei  = torch.zeros((T, T))\n",
    "wei = F.softmax(wei.masked_fill(tril == 0, -float('inf')), dim=1)\n",
    "wei"
   ]
  },
  {
   "cell_type": "code",
   "execution_count": 11,
   "id": "24604ea6-88f5-4b6d-8828-7e9c8ca2c4e4",
   "metadata": {
    "tags": []
   },
   "outputs": [
    {
     "data": {
      "text/plain": [
       "True"
      ]
     },
     "execution_count": 11,
     "metadata": {},
     "output_type": "execute_result"
    }
   ],
   "source": [
    "torch.allclose(wei @ x, xbow)"
   ]
  },
  {
   "cell_type": "code",
   "execution_count": 12,
   "id": "ace8ed96-e8ea-438c-89ba-75aa10aaf4ae",
   "metadata": {
    "tags": []
   },
   "outputs": [
    {
     "data": {
      "text/plain": [
       "torch.Size([4, 8, 16])"
      ]
     },
     "execution_count": 12,
     "metadata": {},
     "output_type": "execute_result"
    }
   ],
   "source": [
    "# self attention\n",
    "torch.manual_seed(1337)\n",
    "B, T, C = 4, 8, 32\n",
    "head_size = 16\n",
    "\n",
    "x = torch.randn((B, T, C))\n",
    "# in case of cross attention key & value come from encoder part\n",
    "key = nn.Linear(C, head_size, bias=False) \n",
    "value = nn.Linear(C, head_size, bias=False)\n",
    "\n",
    "query = nn.Linear(C, head_size, bias=False)\n",
    "\n",
    "k = key(x) # B T head_size\n",
    "q = query(x) # B T head_size\n",
    "v = value(x)\n",
    "wei = q @ k.transpose(-2, -1) # B T head_size @ B head_size T -> B T T\n",
    "\n",
    "tril = torch.tril(torch.ones(T, T))\n",
    "wei = wei.masked_fill(tril == 0, float('-inf')) # difference between autoencoder and generator\n",
    "wei = F.softmax(wei, dim=-1)\n",
    "out = wei @ v\n",
    "out.shape"
   ]
  },
  {
   "cell_type": "code",
   "execution_count": 15,
   "id": "0e26123b-d001-421a-9977-fc887a361216",
   "metadata": {
    "tags": []
   },
   "outputs": [
    {
     "data": {
      "text/plain": [
       "(torch.Size([4, 8, 8]), torch.Size([4, 8, 16]))"
      ]
     },
     "execution_count": 15,
     "metadata": {},
     "output_type": "execute_result"
    }
   ],
   "source": [
    "wei.shape, v.shape"
   ]
  },
  {
   "cell_type": "code",
   "execution_count": 16,
   "id": "441c7935-1bed-4ac9-89ef-dac5626e8522",
   "metadata": {
    "tags": []
   },
   "outputs": [
    {
     "data": {
      "text/plain": [
       "tensor([[1.0000, 0.0000, 0.0000, 0.0000, 0.0000, 0.0000, 0.0000, 0.0000],\n",
       "        [0.1574, 0.8426, 0.0000, 0.0000, 0.0000, 0.0000, 0.0000, 0.0000],\n",
       "        [0.2088, 0.1646, 0.6266, 0.0000, 0.0000, 0.0000, 0.0000, 0.0000],\n",
       "        [0.5792, 0.1187, 0.1889, 0.1131, 0.0000, 0.0000, 0.0000, 0.0000],\n",
       "        [0.0294, 0.1052, 0.0469, 0.0276, 0.7909, 0.0000, 0.0000, 0.0000],\n",
       "        [0.0176, 0.2689, 0.0215, 0.0089, 0.6812, 0.0019, 0.0000, 0.0000],\n",
       "        [0.1691, 0.4066, 0.0438, 0.0416, 0.1048, 0.2012, 0.0329, 0.0000],\n",
       "        [0.0210, 0.0843, 0.0555, 0.2297, 0.0573, 0.0709, 0.2423, 0.2391]],\n",
       "       grad_fn=<SelectBackward0>)"
      ]
     },
     "execution_count": 16,
     "metadata": {},
     "output_type": "execute_result"
    }
   ],
   "source": [
    "wei[0]"
   ]
  },
  {
   "cell_type": "code",
   "execution_count": 17,
   "id": "f565ac68-08f7-49f7-8cce-b0937ea6bc40",
   "metadata": {
    "tags": []
   },
   "outputs": [
    {
     "data": {
      "text/plain": [
       "torch.Size([4, 8, 16])"
      ]
     },
     "execution_count": 17,
     "metadata": {},
     "output_type": "execute_result"
    }
   ],
   "source": [
    "out.shape"
   ]
  },
  {
   "cell_type": "code",
   "execution_count": 22,
   "id": "fbb16256-6388-40ea-a828-e2336a04f8c5",
   "metadata": {
    "tags": []
   },
   "outputs": [
    {
     "name": "stdout",
     "output_type": "stream",
     "text": [
      "tensor(1.0832) tensor(0.8747) tensor(18.0547) 16\n",
      "tensor(1.0283) tensor(1.0969) tensor(1.1257) 16 0.25\n"
     ]
    }
   ],
   "source": [
    "# Note on variance\n",
    "q = torch.randn(B, T, head_size)\n",
    "k = torch.randn(B, T, head_size)\n",
    "wei = q @ k.transpose(-2, -1)\n",
    "print(q.var(), k.var(), wei.var(), head_size)\n",
    "\n",
    "q = torch.randn(B, T, head_size)\n",
    "k = torch.randn(B, T, head_size)\n",
    "wei = q @ k.transpose(-2, -1) * head_size**-0.5\n",
    "print(q.var(), k.var(), wei.var(), head_size, head_size**-0.5)"
   ]
  },
  {
   "cell_type": "code",
   "execution_count": 28,
   "id": "087eff57-385f-4c88-b1d6-700c81838e01",
   "metadata": {
    "tags": []
   },
   "outputs": [
    {
     "name": "stderr",
     "output_type": "stream",
     "text": [
      "/tmp/ipykernel_237125/3072177423.py:1: UserWarning: Implicit dimension choice for softmax has been deprecated. Change the call to include dim=X as an argument.\n",
      "  F.softmax(torch.tensor([[-2,2,5]], dtype=torch.float)), F.softmax(torch.tensor([[-2,2,5]], dtype=torch.float) * 5)\n"
     ]
    },
    {
     "data": {
      "text/plain": [
       "(tensor([[8.6788e-04, 4.7385e-02, 9.5175e-01]]),\n",
       " tensor([[6.3051e-16, 3.0590e-07, 1.0000e+00]]))"
      ]
     },
     "execution_count": 28,
     "metadata": {},
     "output_type": "execute_result"
    }
   ],
   "source": [
    "# In case distribution is sharp, softmax is peaky and takes extremes\n",
    "F.softmax(torch.tensor([[-2,2,5]], dtype=torch.float)), F.softmax(torch.tensor([[-2,2,5]], dtype=torch.float) * 5)"
   ]
  },
  {
   "cell_type": "markdown",
   "id": "b18ee122-2323-4457-9089-d1c4e36d26a7",
   "metadata": {},
   "source": [
    "### Batch nomr 1d"
   ]
  },
  {
   "cell_type": "code",
   "execution_count": 12,
   "id": "a4e7ea94-b245-42f7-890b-ffe1b3635e22",
   "metadata": {
    "tags": []
   },
   "outputs": [],
   "source": [
    "class BatchNorm1d:\n",
    "    def __init__(self, dim, eps=1e-5):\n",
    "        self.eps = eps\n",
    "        self.gamma = torch.ones(dim)\n",
    "        self.beta = torch.zeros(dim)\n",
    "        \n",
    "    def __call__(self, x):\n",
    "        xmean = x.mean(dim=1, keepdim=True)\n",
    "        xvar = x.var(dim=1, keepdim=True)\n",
    "        xhat = (x - xmean) / torch.sqrt(xvar + self.eps)\n",
    "        return self.gamma * xhat + self.beta\n",
    "    \n",
    "    def parameters(self):\n",
    "        return [self.gamam, self.beta]"
   ]
  },
  {
   "cell_type": "code",
   "execution_count": 16,
   "id": "d7388f1f-6145-4e88-98e7-54e512fa7b75",
   "metadata": {
    "tags": []
   },
   "outputs": [],
   "source": [
    "torch.manual_seed(1337)\n",
    "bn = BatchNorm1d(100)\n",
    "\n",
    "x = torch.randn(32, 100)\n",
    "x = bn(x)"
   ]
  },
  {
   "cell_type": "code",
   "execution_count": 18,
   "id": "4141093f-3e14-4c01-bb53-438345c3f57e",
   "metadata": {
    "tags": []
   },
   "outputs": [
    {
     "data": {
      "text/plain": [
       "(tensor(-9.5367e-09), tensor(1.0000), tensor(9.5367e-09), tensor(1.))"
      ]
     },
     "execution_count": 18,
     "metadata": {},
     "output_type": "execute_result"
    }
   ],
   "source": [
    "x[0, :].mean(), x[0, :].std(), ((x[1, :] - x[1, :].mean())/x[1, :].std()).mean(),  ((x[1, :] - x[1, :].mean())/x[1, :].std()).std()"
   ]
  },
  {
   "cell_type": "code",
   "execution_count": 10,
   "id": "3f6baf22-674d-4af5-9cae-391666ec6411",
   "metadata": {
    "tags": []
   },
   "outputs": [
    {
     "data": {
      "text/plain": [
       "tensor([[-0.1109],\n",
       "        [ 0.0118],\n",
       "        [-0.0243],\n",
       "        [ 0.0093],\n",
       "        [-0.1960],\n",
       "        [ 0.1990],\n",
       "        [-0.1238],\n",
       "        [ 0.0915],\n",
       "        [-0.0573],\n",
       "        [-0.1076],\n",
       "        [-0.0401],\n",
       "        [-0.0425],\n",
       "        [ 0.1250],\n",
       "        [-0.1696],\n",
       "        [ 0.0554],\n",
       "        [-0.0430],\n",
       "        [-0.0311],\n",
       "        [-0.0686],\n",
       "        [-0.0969],\n",
       "        [ 0.0574],\n",
       "        [-0.0121],\n",
       "        [-0.0852],\n",
       "        [-0.0028],\n",
       "        [ 0.1250],\n",
       "        [-0.0149],\n",
       "        [-0.0954],\n",
       "        [ 0.0832],\n",
       "        [-0.0766],\n",
       "        [ 0.1630],\n",
       "        [-0.0633],\n",
       "        [-0.1054],\n",
       "        [-0.0549]])"
      ]
     },
     "execution_count": 10,
     "metadata": {},
     "output_type": "execute_result"
    }
   ],
   "source": []
  },
  {
   "cell_type": "code",
   "execution_count": null,
   "id": "9ea03c8b-e4ed-4bb9-834f-7a43647318a6",
   "metadata": {},
   "outputs": [],
   "source": []
  }
 ],
 "metadata": {
  "kernelspec": {
   "display_name": "Python 3 (ipykernel)",
   "language": "python",
   "name": "python3"
  },
  "language_info": {
   "codemirror_mode": {
    "name": "ipython",
    "version": 3
   },
   "file_extension": ".py",
   "mimetype": "text/x-python",
   "name": "python",
   "nbconvert_exporter": "python",
   "pygments_lexer": "ipython3",
   "version": "3.9.16"
  }
 },
 "nbformat": 4,
 "nbformat_minor": 5
}
