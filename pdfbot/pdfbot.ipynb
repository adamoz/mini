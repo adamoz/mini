{
 "cells": [
  {
   "cell_type": "code",
   "execution_count": null,
   "id": "2e96691d-1e52-4f73-9d4d-e8b1635edae6",
   "metadata": {
    "tags": []
   },
   "outputs": [],
   "source": [
    "!pip install openai"
   ]
  },
  {
   "cell_type": "code",
   "execution_count": null,
   "id": "f12ab0c8-e655-4004-ba91-a88cb52d609d",
   "metadata": {
    "tags": []
   },
   "outputs": [],
   "source": [
    "!pip install langchain"
   ]
  },
  {
   "cell_type": "code",
   "execution_count": null,
   "id": "21674f14-83d6-49ea-acc3-62b3de85218a",
   "metadata": {
    "tags": []
   },
   "outputs": [],
   "source": [
    "!pip install unstructured"
   ]
  },
  {
   "cell_type": "code",
   "execution_count": null,
   "id": "d790b3da-b5d4-4cb1-8cbc-b66fad990e08",
   "metadata": {
    "tags": []
   },
   "outputs": [],
   "source": [
    "!pip install tiktoken"
   ]
  },
  {
   "cell_type": "code",
   "execution_count": null,
   "id": "beceef23-3abd-4d93-9b12-ed464d68c677",
   "metadata": {
    "tags": []
   },
   "outputs": [],
   "source": [
    "pip install faiss-cpu"
   ]
  },
  {
   "cell_type": "code",
   "execution_count": null,
   "id": "d125683c-e29c-4e5c-8cd9-904c91a63a4e",
   "metadata": {
    "tags": []
   },
   "outputs": [],
   "source": [
    "from langchain.document_loaders import UnstructuredPDFLoader\n",
    "from langchain.text_splitter import CharacterTextSplitter\n",
    "from langchain.embeddings.openai import OpenAIEmbeddings\n",
    "from langchain.vectorstores import FAISS\n",
    "from langchain.llms import OpenAI\n",
    "from langchain.callbacks import get_openai_callback\n",
    "from langchain.chains.question_answering import load_qa_chain"
   ]
  },
  {
   "cell_type": "code",
   "execution_count": null,
   "id": "656e400a-7d71-4e4b-bab2-c3190ef2b570",
   "metadata": {
    "tags": []
   },
   "outputs": [],
   "source": [
    "loader = UnstructuredPDFLoader('./MDMA_IB.pdf')"
   ]
  },
  {
   "cell_type": "code",
   "execution_count": null,
   "id": "182478fc-7358-4d53-9469-89ee3f70276a",
   "metadata": {
    "tags": []
   },
   "outputs": [],
   "source": [
    "data = loader.load()"
   ]
  },
  {
   "cell_type": "code",
   "execution_count": null,
   "id": "5255daf3-185e-457c-84ab-fd45b0b697dc",
   "metadata": {
    "tags": []
   },
   "outputs": [],
   "source": [
    "len(data)"
   ]
  },
  {
   "cell_type": "code",
   "execution_count": null,
   "id": "6e74ebf2-ccbc-4444-a479-920f8aa57f6e",
   "metadata": {
    "tags": []
   },
   "outputs": [],
   "source": [
    "len(data[0].page_content) / 1800"
   ]
  },
  {
   "cell_type": "code",
   "execution_count": null,
   "id": "51ff927e-5e10-4fbb-a91f-1bb87162db7b",
   "metadata": {
    "tags": []
   },
   "outputs": [],
   "source": [
    "text_splitter = CharacterTextSplitter(separator=\"\\n\", chunk_size=1000, chunk_overlap=20, length_function=len)"
   ]
  },
  {
   "cell_type": "code",
   "execution_count": null,
   "id": "13e24d21-932a-4327-9cac-0c9c73eaf886",
   "metadata": {
    "tags": []
   },
   "outputs": [],
   "source": [
    "chunks = text_splitter.split_text(data[0].page_content)"
   ]
  },
  {
   "cell_type": "code",
   "execution_count": null,
   "id": "96b0d469-57e6-425d-93ec-b15dd076d742",
   "metadata": {
    "tags": []
   },
   "outputs": [],
   "source": [
    "len(chunks)"
   ]
  },
  {
   "cell_type": "code",
   "execution_count": null,
   "id": "a837bd2e-eee3-46f2-8241-a3f3e40793cf",
   "metadata": {
    "tags": []
   },
   "outputs": [],
   "source": [
    "with open('secret', 'r') as fr:\n",
    "    secret = fr.readline().strip()"
   ]
  },
  {
   "cell_type": "code",
   "execution_count": null,
   "id": "1dae0429-fb32-420a-becb-562471a37ab8",
   "metadata": {
    "tags": []
   },
   "outputs": [],
   "source": [
    "embeddings = OpenAIEmbeddings(openai_api_key=secret)"
   ]
  },
  {
   "cell_type": "code",
   "execution_count": null,
   "id": "93c299da-3075-4bac-b67a-be6dc1955160",
   "metadata": {
    "tags": []
   },
   "outputs": [],
   "source": [
    "knowledge_base = FAISS.from_texts(chunks, embeddings)"
   ]
  },
  {
   "cell_type": "code",
   "execution_count": null,
   "id": "ef0e4dc8-1f34-45ad-901f-1ddfc47e4ed5",
   "metadata": {
    "tags": []
   },
   "outputs": [],
   "source": [
    "knowledge_base"
   ]
  },
  {
   "cell_type": "code",
   "execution_count": null,
   "id": "a67cbe8e-827f-4870-b87a-5987dbdea771",
   "metadata": {
    "tags": []
   },
   "outputs": [],
   "source": [
    "user_question = \"Summarize the results for efficacy for primary endpoints across MAPS studies.\"\n",
    "docs = knowledge_base.similarity_search(user_question, k=5)\n",
    "docs"
   ]
  },
  {
   "cell_type": "code",
   "execution_count": null,
   "id": "950d0ee2-e840-4c3f-b6f1-28321e4da793",
   "metadata": {
    "tags": []
   },
   "outputs": [],
   "source": [
    "llm = OpenAI(openai_api_key=secret)"
   ]
  },
  {
   "cell_type": "code",
   "execution_count": null,
   "id": "5283e451-2714-47e8-a15a-787eb90b4758",
   "metadata": {
    "tags": []
   },
   "outputs": [],
   "source": [
    "chain = load_qa_chain(llm, chain_type=\"stuff\")\n",
    "with get_openai_callback() as cb:\n",
    "    response = chain.run(input_documents=docs, question=user_question)\n",
    "print(cb)"
   ]
  },
  {
   "cell_type": "code",
   "execution_count": null,
   "id": "8e881270-e7a3-41ee-94cb-b1e54131bc3d",
   "metadata": {
    "tags": []
   },
   "outputs": [],
   "source": [
    "response"
   ]
  },
  {
   "cell_type": "code",
   "execution_count": null,
   "id": "d142d25d-3f29-44da-bdfe-f135eb3a77a5",
   "metadata": {
    "tags": []
   },
   "outputs": [],
   "source": [
    "!mkdir 'maps'"
   ]
  },
  {
   "cell_type": "code",
   "execution_count": null,
   "id": "ac9ccad7-5cfa-46b9-b328-4751aad85e46",
   "metadata": {
    "tags": []
   },
   "outputs": [],
   "source": [
    "knowledge_base.save_local(folder_path='./maps/', index_name='maps')"
   ]
  }
 ],
 "metadata": {
  "kernelspec": {
   "display_name": "Python 3 (ipykernel)",
   "language": "python",
   "name": "python3"
  },
  "language_info": {
   "codemirror_mode": {
    "name": "ipython",
    "version": 3
   },
   "file_extension": ".py",
   "mimetype": "text/x-python",
   "name": "python",
   "nbconvert_exporter": "python",
   "pygments_lexer": "ipython3",
   "version": "3.9.16"
  }
 },
 "nbformat": 4,
 "nbformat_minor": 5
}
